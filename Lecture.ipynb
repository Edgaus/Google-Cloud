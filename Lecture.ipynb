{
 "cells": [
  {
   "cell_type": "markdown",
   "metadata": {},
   "source": [
    "<h1> Introduction to Responsible AI </h1>\n",
    "\n"
   ]
  },
  {
   "cell_type": "markdown",
   "metadata": {},
   "source": [
    "<h1> Introduction to Responsible AI: Quiz </h1>\n",
    "\n",
    "<ol>\n",
    "<li>What are some of the applications of LLMs?</li>\n",
    "    <ol>\n",
    "        <li>Writing</li>\n",
    "        <li>Translating </li>\n",
    "        <li>Coding </li>\n",
    "        <li>Answering questions</li>\n",
    "        <li>Summarizing text </li>\n",
    "        <li>Generating creative content </li>\n",
    "    </ol>\n",
    "\n",
    "<li>What are some of the challenges of using LLMs? Select three options.</li>\n",
    "    <ol>\n",
    "        <li>They can be expensive to train.</li>\n",
    "        <li>They can be biased.</li>\n",
    "        <li>They can be used to generate harmful content.</li>\n",
    "    </ol>\n",
    "    \n",
    "<li>What are some of the benefits of using large language models (LLMs)?</li>\n",
    "    <ol>\n",
    "        <li>They can generate human-quality text.</li>\n",
    "        <li>They can be used for many tasks, such as text summarization and code generation</li>\n",
    "        <li>They can be trained on massive datasets of text and code</li>\n",
    "        <li>They are constantly improving.</li>\n",
    "    </ol>\n",
    "<li>What are large language models (LLMs)?:</li>\n",
    "    <ol>\n",
    "        <li>An LLM is a type of artificial intelligence (AI) that can generate human-quality text. LLMs are trained on massive datasets of text and code, and they can be used for many tasks, such as writing, translating, and coding</li>\n",
    "    </ol>"
   ]
  },
  {
   "cell_type": "markdown",
   "metadata": {},
   "source": []
  }
 ],
 "metadata": {
  "kernelspec": {
   "display_name": "Python 3",
   "language": "python",
   "name": "python3"
  },
  "language_info": {
   "name": "python",
   "version": "3.9.13"
  },
  "orig_nbformat": 4
 },
 "nbformat": 4,
 "nbformat_minor": 2
}
