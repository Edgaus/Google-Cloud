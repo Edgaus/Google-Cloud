{
 "cells": [
  {
   "cell_type": "markdown",
   "metadata": {},
   "source": [
    "<h1>Introduction to Image Generation</h1>\n",
    "\n",
    "\n",
    "<img src=\"1.png\"  align=\"middle\"/>\n",
    "\n",
    "<img src=\"1.png\"  align=\"middle\"/>\n",
    "\n",
    "<img src=\"1.png\"  align=\"middle\"/>\n",
    "\n",
    "<img src=\"1.png\"  align=\"middle\"/>\n",
    "\n",
    "<img src=\"1.png\"  align=\"middle\"/>"
   ]
  }
 ],
 "metadata": {
  "kernelspec": {
   "display_name": "Python 3",
   "language": "python",
   "name": "python3"
  },
  "language_info": {
   "name": "python",
   "version": "3.9.13"
  },
  "orig_nbformat": 4
 },
 "nbformat": 4,
 "nbformat_minor": 2
}
