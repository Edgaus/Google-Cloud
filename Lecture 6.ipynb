{
 "cells": [
  {
   "cell_type": "markdown",
   "metadata": {},
   "source": [
    "<h1>Encoder-Decoder Architecture: Overview </h1>\n",
    "\n",
    "Enconder-Decoer arquitecture is a machine that consumes sequences and spits out sequences. \n",
    "\n",
    "How does it do it?\n",
    "\n",
    "Typically has two stages:\n",
    "\n",
    "<img src=\"Stages.png\"  align=\"middle\"/>\n",
    "First creates a vector that represents the input data (Encoding stage), and finally creates an output sequence (Decoding Stage). The internal mechanism can be a neural network \n"
   ]
  },
  {
   "cell_type": "markdown",
   "metadata": {},
   "source": [
    "<h1> Encoder-Decoder Architecture: Quiz </h1>\n",
    "<ol>\n",
    "<li>What is the purpose of the encoder in an encoder-decoder architecture?</li>\n",
    "\n",
    "\n",
    "<li>What is the difference between greedy search and beam search?</li>\n",
    "Greedy search always selects the word with the highest probability, whereas beam search considers multiple possible words and selects the one with the highest combined probability.\n",
    "\n",
    "<li>What are two ways to generate text from a trained encoder-decoder model at serving time?</li>\n",
    "\n",
    "<li>What is the purpose of the decoder in an encoder-decoder architecture?</li>\n",
    "    <ol>\n",
    "        <li>To generate the output sequence from the vector representation</li>\n",
    "    </ol>\n",
    "<li>What is the name of the machine learning architecture that takes a sequence of words as input and outputs a sequence of words?</li>\n",
    "Encoder-decoder"
   ]
  }
 ],
 "metadata": {
  "kernelspec": {
   "display_name": "Python 3",
   "language": "python",
   "name": "python3"
  },
  "language_info": {
   "name": "python",
   "version": "3.9.13"
  },
  "orig_nbformat": 4
 },
 "nbformat": 4,
 "nbformat_minor": 2
}
